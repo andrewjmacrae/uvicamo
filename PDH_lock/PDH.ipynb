{
 "cells": [
  {
   "cell_type": "markdown",
   "metadata": {},
   "source": [
    "# Pound Drever Hall Analysis\n",
    "\n",
    "This Notebook will contain design specs, analysis, calculations etc for the Pound Drever Hall Project"
   ]
  },
  {
   "cell_type": "markdown",
   "metadata": {},
   "source": [
    "## Purpose of the Project\n",
    "An optical cavity is formed by two or more mirrors which highly reflect incident light except for a set of narrow <i>resonant</i> frequencies, for which the cavity is highly transmissive. \n",
    "\n",
    "The point of this project is to stabilize the length of a cavity so that an incoming \"lock beam\" will always be resonant to it (i.e. experience maximum transmission). \n",
    "\n",
    "The Pound Drever Hall (PDH) technique is a tried, tested and true method for accomplishing this. Essentially PDH works by modulating the incoming light creating sidebands at frequecy $\\pm \\Omega$ that are reflected from the cavity, and using these sidebands to create an error signal proportional to the deviation of the cavity from resonance.\n",
    "\n",
    "This project aims to create the electronics, mechanical assemble, and optics to create a PDH lock"
   ]
  },
  {
   "cell_type": "markdown",
   "metadata": {},
   "source": [
    "\n",
    "### TODO ###\n",
    "- Tutorial of Physics\n",
    "- Calculation of parameters\n",
    "- Add references"
   ]
  },
  {
   "cell_type": "markdown",
   "metadata": {},
   "source": [
    "## DESIGN SPECS\n",
    "(Calculations to follow)\n",
    "\n",
    "### What modulation frequency do we want?\n",
    "- Our cavity will have a length of around 2.5 to 10 cm. This corresponds to an FSR of 1.5 to 6 GHz. Our relflectivity is on the order of R ~ 1 - 0.001. This corresponds to a finesse of about 1000*pi, let's just call it 3000. Given this our linewidth (FWHM) is between 1 and 4 MHz. Since we want our sidebands to be about 10x a linewidth, we really expect our primary frequency to be about 10 to 40 MHz.\n",
    "\n",
    "What are the relevant signal\n",
    "- It can be shown that the optimal slope occurs when each sideband has half the power of the carrier. We will actually need fairly high bandwidth detectors (100 MHz say). Our light will have a power in the order of 100 &mu;W and so we will have each sideband at about 25 &mu;W. However, we may not get down to this level so that we should expect a signal as low as 5&mu;W at the modulation frequency. With a transimpedance gain of 100k&Omega; and a responsivity of 0.5 A/W we can thus expect a signal level of about 250 mV. This seems high ... however if this is not achievable with a single stage, we can have a second gain stage at the output. \n",
    "\n",
    "What kind of load are we driving?\n",
    "- We will drive a Piezo connected to a mirror (which is essentially a capacitive load, w/ $C_{DC} \\approx 1~\\mu F$\n",
    "- We will need a fairly large voltage gain here, since the piezo will require about 100 V to move a full stroke. \n",
    "- Our mechanical bandwidth is about 10 kHz, so we don't need anything faster than that."
   ]
  },
  {
   "cell_type": "markdown",
   "metadata": {},
   "source": [
    "# Tutorial of relevant Physics\n",
    "\n",
    "### TLDR\n",
    "PDH stabilizes a cavity by creating sidebands on a laser and observing the phase of these sidebands upon reflection from the cavity with respect to the modulation. Since a cavity induces a frequency dependant phase shift on the reflected beam, this phase shift gives a DC signal directly proportional to the deviation from cavity resonance, which can be used in a servo loop.\n",
    "\n",
    "### Introduction\n",
    "The essential idea of the Pound Drever Hall (PDH) technique is that we want to stabilize the <b>releative</b> frequncy of a laser and an optical cavity. In one set of circumstances (LIGO for example) an ultrastable cavity is used to stabilize the frequency of a laser. In other circumstances (such as our applications in atomic physics) a separately stabilized laser is used to stabilize the resonant frequency of a cavity by modulating its length. In general, neither the laser or the cavity need be intrinsically stable, but the PDH technique will ensure realtive stability, so that their deviations will track one anothers and the laser will always be resonant to the cavity. \n",
    "\n",
    "### Fabry Perot Cavities\n",
    " TODO\n",
    " \n",
    "### The Phase and Amplitude of the Reflected Signal\n",
    "From the above calculation, the reflected E-field is the sum of two terms: the directly reflected incident field and the portion of the intracavity field which leaks through the first mirror:\n",
    "\n",
    "$$\n",
    "\\frac{E_{in}}{E_r}\\equiv\\mathcal{R} = \\frac{-r}{1+r^2e^{i\\Delta}} + \\frac{re^{i\\Delta}}{1+r^2e^{i\\Delta}}\n",
    "$$\n",
    "\n",
    "... where $\\Delta \\equiv \\omega/\\omega_{fsr}$ is the frequency as a multiple of free spectral lengths."
   ]
  },
  {
   "cell_type": "code",
   "execution_count": null,
   "metadata": {},
   "outputs": [],
   "source": []
  }
 ],
 "metadata": {
  "kernelspec": {
   "display_name": "Python 3",
   "language": "python",
   "name": "python3"
  },
  "language_info": {
   "codemirror_mode": {
    "name": "ipython",
    "version": 3
   },
   "file_extension": ".py",
   "mimetype": "text/x-python",
   "name": "python",
   "nbconvert_exporter": "python",
   "pygments_lexer": "ipython3",
   "version": "3.7.6"
  }
 },
 "nbformat": 4,
 "nbformat_minor": 4
}
